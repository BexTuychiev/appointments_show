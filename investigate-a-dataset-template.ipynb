{
 "cells": [
  {
   "cell_type": "markdown",
   "metadata": {},
   "source": [
    "# Project: No Show Appointments"
   ]
  },
  {
   "cell_type": "markdown",
   "metadata": {},
   "source": [
    "## Introduction"
   ]
  },
  {
   "cell_type": "markdown",
   "metadata": {},
   "source": [
    "#### The structure of the dataset\n",
    "\n",
    "There are a little more than 110k appointments information which are divided into 14 columns. These columns provide data about the patient, their issues and whether or not they attended their appointment."
   ]
  },
  {
   "cell_type": "markdown",
   "metadata": {},
   "source": [
    "#### What are the main features of interest in the dataset\n",
    "\n",
    "I am mostly interested in finding out the reasons of why a patient might miss their appointment and which factors inluence those events."
   ]
  },
  {
   "cell_type": "markdown",
   "metadata": {},
   "source": [
    "<a id='wrangling'></a>\n",
    "## Data Wrangling"
   ]
  },
  {
   "cell_type": "markdown",
   "metadata": {},
   "source": [
    "### Gather"
   ]
  },
  {
   "cell_type": "code",
   "execution_count": 1,
   "metadata": {},
   "outputs": [],
   "source": [
    "# Import necessary packages\n",
    "import numpy as np\n",
    "import pandas as pd\n",
    "import matplotlib.pyplot as plt\n",
    "import seaborn as sb\n",
    "import datetime\n",
    "\n",
    "%matplotlib inline"
   ]
  },
  {
   "cell_type": "code",
   "execution_count": 2,
   "metadata": {},
   "outputs": [],
   "source": [
    "# Load the dataset\n",
    "appointments = pd.read_csv('noshowappointments-kagglev2-may-2016.csv')"
   ]
  },
  {
   "cell_type": "markdown",
   "metadata": {},
   "source": [
    "### Assess and note issues"
   ]
  },
  {
   "cell_type": "code",
   "execution_count": 3,
   "metadata": {},
   "outputs": [
    {
     "data": {
      "text/html": [
       "<div>\n",
       "<style scoped>\n",
       "    .dataframe tbody tr th:only-of-type {\n",
       "        vertical-align: middle;\n",
       "    }\n",
       "\n",
       "    .dataframe tbody tr th {\n",
       "        vertical-align: top;\n",
       "    }\n",
       "\n",
       "    .dataframe thead th {\n",
       "        text-align: right;\n",
       "    }\n",
       "</style>\n",
       "<table border=\"1\" class=\"dataframe\">\n",
       "  <thead>\n",
       "    <tr style=\"text-align: right;\">\n",
       "      <th></th>\n",
       "      <th>PatientId</th>\n",
       "      <th>AppointmentID</th>\n",
       "      <th>Gender</th>\n",
       "      <th>ScheduledDay</th>\n",
       "      <th>AppointmentDay</th>\n",
       "      <th>Age</th>\n",
       "      <th>Neighbourhood</th>\n",
       "      <th>Scholarship</th>\n",
       "      <th>Hipertension</th>\n",
       "      <th>Diabetes</th>\n",
       "      <th>Alcoholism</th>\n",
       "      <th>Handcap</th>\n",
       "      <th>SMS_received</th>\n",
       "      <th>No-show</th>\n",
       "    </tr>\n",
       "  </thead>\n",
       "  <tbody>\n",
       "    <tr>\n",
       "      <th>0</th>\n",
       "      <td>2.987250e+13</td>\n",
       "      <td>5642903</td>\n",
       "      <td>F</td>\n",
       "      <td>2016-04-29T18:38:08Z</td>\n",
       "      <td>2016-04-29T00:00:00Z</td>\n",
       "      <td>62</td>\n",
       "      <td>JARDIM DA PENHA</td>\n",
       "      <td>0</td>\n",
       "      <td>1</td>\n",
       "      <td>0</td>\n",
       "      <td>0</td>\n",
       "      <td>0</td>\n",
       "      <td>0</td>\n",
       "      <td>No</td>\n",
       "    </tr>\n",
       "    <tr>\n",
       "      <th>1</th>\n",
       "      <td>5.589978e+14</td>\n",
       "      <td>5642503</td>\n",
       "      <td>M</td>\n",
       "      <td>2016-04-29T16:08:27Z</td>\n",
       "      <td>2016-04-29T00:00:00Z</td>\n",
       "      <td>56</td>\n",
       "      <td>JARDIM DA PENHA</td>\n",
       "      <td>0</td>\n",
       "      <td>0</td>\n",
       "      <td>0</td>\n",
       "      <td>0</td>\n",
       "      <td>0</td>\n",
       "      <td>0</td>\n",
       "      <td>No</td>\n",
       "    </tr>\n",
       "    <tr>\n",
       "      <th>2</th>\n",
       "      <td>4.262962e+12</td>\n",
       "      <td>5642549</td>\n",
       "      <td>F</td>\n",
       "      <td>2016-04-29T16:19:04Z</td>\n",
       "      <td>2016-04-29T00:00:00Z</td>\n",
       "      <td>62</td>\n",
       "      <td>MATA DA PRAIA</td>\n",
       "      <td>0</td>\n",
       "      <td>0</td>\n",
       "      <td>0</td>\n",
       "      <td>0</td>\n",
       "      <td>0</td>\n",
       "      <td>0</td>\n",
       "      <td>No</td>\n",
       "    </tr>\n",
       "    <tr>\n",
       "      <th>3</th>\n",
       "      <td>8.679512e+11</td>\n",
       "      <td>5642828</td>\n",
       "      <td>F</td>\n",
       "      <td>2016-04-29T17:29:31Z</td>\n",
       "      <td>2016-04-29T00:00:00Z</td>\n",
       "      <td>8</td>\n",
       "      <td>PONTAL DE CAMBURI</td>\n",
       "      <td>0</td>\n",
       "      <td>0</td>\n",
       "      <td>0</td>\n",
       "      <td>0</td>\n",
       "      <td>0</td>\n",
       "      <td>0</td>\n",
       "      <td>No</td>\n",
       "    </tr>\n",
       "    <tr>\n",
       "      <th>4</th>\n",
       "      <td>8.841186e+12</td>\n",
       "      <td>5642494</td>\n",
       "      <td>F</td>\n",
       "      <td>2016-04-29T16:07:23Z</td>\n",
       "      <td>2016-04-29T00:00:00Z</td>\n",
       "      <td>56</td>\n",
       "      <td>JARDIM DA PENHA</td>\n",
       "      <td>0</td>\n",
       "      <td>1</td>\n",
       "      <td>1</td>\n",
       "      <td>0</td>\n",
       "      <td>0</td>\n",
       "      <td>0</td>\n",
       "      <td>No</td>\n",
       "    </tr>\n",
       "  </tbody>\n",
       "</table>\n",
       "</div>"
      ],
      "text/plain": [
       "      PatientId  AppointmentID Gender          ScheduledDay  \\\n",
       "0  2.987250e+13        5642903      F  2016-04-29T18:38:08Z   \n",
       "1  5.589978e+14        5642503      M  2016-04-29T16:08:27Z   \n",
       "2  4.262962e+12        5642549      F  2016-04-29T16:19:04Z   \n",
       "3  8.679512e+11        5642828      F  2016-04-29T17:29:31Z   \n",
       "4  8.841186e+12        5642494      F  2016-04-29T16:07:23Z   \n",
       "\n",
       "         AppointmentDay  Age      Neighbourhood  Scholarship  Hipertension  \\\n",
       "0  2016-04-29T00:00:00Z   62    JARDIM DA PENHA            0             1   \n",
       "1  2016-04-29T00:00:00Z   56    JARDIM DA PENHA            0             0   \n",
       "2  2016-04-29T00:00:00Z   62      MATA DA PRAIA            0             0   \n",
       "3  2016-04-29T00:00:00Z    8  PONTAL DE CAMBURI            0             0   \n",
       "4  2016-04-29T00:00:00Z   56    JARDIM DA PENHA            0             1   \n",
       "\n",
       "   Diabetes  Alcoholism  Handcap  SMS_received No-show  \n",
       "0         0           0        0             0      No  \n",
       "1         0           0        0             0      No  \n",
       "2         0           0        0             0      No  \n",
       "3         0           0        0             0      No  \n",
       "4         1           0        0             0      No  "
      ]
     },
     "execution_count": 3,
     "metadata": {},
     "output_type": "execute_result"
    }
   ],
   "source": [
    "appointments.head()"
   ]
  },
  {
   "cell_type": "code",
   "execution_count": 4,
   "metadata": {},
   "outputs": [
    {
     "data": {
      "text/plain": [
       "(110527, 14)"
      ]
     },
     "execution_count": 4,
     "metadata": {},
     "output_type": "execute_result"
    }
   ],
   "source": [
    "appointments.shape"
   ]
  },
  {
   "cell_type": "code",
   "execution_count": 5,
   "metadata": {},
   "outputs": [
    {
     "data": {
      "text/plain": [
       "PatientId         float64\n",
       "AppointmentID       int64\n",
       "Gender             object\n",
       "ScheduledDay       object\n",
       "AppointmentDay     object\n",
       "Age                 int64\n",
       "Neighbourhood      object\n",
       "Scholarship         int64\n",
       "Hipertension        int64\n",
       "Diabetes            int64\n",
       "Alcoholism          int64\n",
       "Handcap             int64\n",
       "SMS_received        int64\n",
       "No-show            object\n",
       "dtype: object"
      ]
     },
     "execution_count": 5,
     "metadata": {},
     "output_type": "execute_result"
    }
   ],
   "source": [
    "appointments.dtypes"
   ]
  },
  {
   "cell_type": "code",
   "execution_count": 6,
   "metadata": {},
   "outputs": [
    {
     "name": "stdout",
     "output_type": "stream",
     "text": [
      "<class 'pandas.core.frame.DataFrame'>\n",
      "RangeIndex: 110527 entries, 0 to 110526\n",
      "Data columns (total 14 columns):\n",
      " #   Column          Non-Null Count   Dtype  \n",
      "---  ------          --------------   -----  \n",
      " 0   PatientId       110527 non-null  float64\n",
      " 1   AppointmentID   110527 non-null  int64  \n",
      " 2   Gender          110527 non-null  object \n",
      " 3   ScheduledDay    110527 non-null  object \n",
      " 4   AppointmentDay  110527 non-null  object \n",
      " 5   Age             110527 non-null  int64  \n",
      " 6   Neighbourhood   110527 non-null  object \n",
      " 7   Scholarship     110527 non-null  int64  \n",
      " 8   Hipertension    110527 non-null  int64  \n",
      " 9   Diabetes        110527 non-null  int64  \n",
      " 10  Alcoholism      110527 non-null  int64  \n",
      " 11  Handcap         110527 non-null  int64  \n",
      " 12  SMS_received    110527 non-null  int64  \n",
      " 13  No-show         110527 non-null  object \n",
      "dtypes: float64(1), int64(8), object(5)\n",
      "memory usage: 11.8+ MB\n"
     ]
    }
   ],
   "source": [
    "appointments.info()"
   ]
  },
  {
   "cell_type": "code",
   "execution_count": 7,
   "metadata": {
    "scrolled": true
   },
   "outputs": [
    {
     "data": {
      "text/plain": [
       "PatientId          62299\n",
       "AppointmentID     110527\n",
       "Gender                 2\n",
       "ScheduledDay      103549\n",
       "AppointmentDay        27\n",
       "Age                  104\n",
       "Neighbourhood         81\n",
       "Scholarship            2\n",
       "Hipertension           2\n",
       "Diabetes               2\n",
       "Alcoholism             2\n",
       "Handcap                5\n",
       "SMS_received           2\n",
       "No-show                2\n",
       "dtype: int64"
      ]
     },
     "execution_count": 7,
     "metadata": {},
     "output_type": "execute_result"
    }
   ],
   "source": [
    "appointments.nunique()"
   ]
  },
  {
   "cell_type": "code",
   "execution_count": 8,
   "metadata": {},
   "outputs": [
    {
     "data": {
      "text/plain": [
       "0    108286\n",
       "1      2042\n",
       "2       183\n",
       "3        13\n",
       "4         3\n",
       "Name: Handcap, dtype: int64"
      ]
     },
     "execution_count": 8,
     "metadata": {},
     "output_type": "execute_result"
    }
   ],
   "source": [
    "appointments.Handcap.value_counts()"
   ]
  },
  {
   "cell_type": "code",
   "execution_count": 9,
   "metadata": {},
   "outputs": [
    {
     "data": {
      "text/plain": [
       " 0      3539\n",
       " 1      2273\n",
       " 52     1746\n",
       " 49     1652\n",
       " 53     1651\n",
       "        ... \n",
       " 115       5\n",
       " 100       4\n",
       " 102       2\n",
       " 99        1\n",
       "-1         1\n",
       "Name: Age, Length: 104, dtype: int64"
      ]
     },
     "execution_count": 9,
     "metadata": {},
     "output_type": "execute_result"
    }
   ],
   "source": [
    "appointments.Age.value_counts()"
   ]
  },
  {
   "cell_type": "code",
   "execution_count": 10,
   "metadata": {},
   "outputs": [
    {
     "data": {
      "text/plain": [
       "JARDIM CAMBURI                 7717\n",
       "MARIA ORTIZ                    5805\n",
       "RESISTÊNCIA                    4431\n",
       "JARDIM DA PENHA                3877\n",
       "ITARARÉ                        3514\n",
       "                               ... \n",
       "ILHA DO BOI                      35\n",
       "ILHA DO FRADE                    10\n",
       "AEROPORTO                         8\n",
       "ILHAS OCEÂNICAS DE TRINDADE       2\n",
       "PARQUE INDUSTRIAL                 1\n",
       "Name: Neighbourhood, Length: 81, dtype: int64"
      ]
     },
     "execution_count": 10,
     "metadata": {},
     "output_type": "execute_result"
    }
   ],
   "source": [
    "appointments.Neighbourhood.value_counts()"
   ]
  },
  {
   "cell_type": "code",
   "execution_count": 11,
   "metadata": {},
   "outputs": [
    {
     "data": {
      "text/html": [
       "<div>\n",
       "<style scoped>\n",
       "    .dataframe tbody tr th:only-of-type {\n",
       "        vertical-align: middle;\n",
       "    }\n",
       "\n",
       "    .dataframe tbody tr th {\n",
       "        vertical-align: top;\n",
       "    }\n",
       "\n",
       "    .dataframe thead th {\n",
       "        text-align: right;\n",
       "    }\n",
       "</style>\n",
       "<table border=\"1\" class=\"dataframe\">\n",
       "  <thead>\n",
       "    <tr style=\"text-align: right;\">\n",
       "      <th></th>\n",
       "      <th>PatientId</th>\n",
       "      <th>AppointmentID</th>\n",
       "      <th>Age</th>\n",
       "      <th>Scholarship</th>\n",
       "      <th>Hipertension</th>\n",
       "      <th>Diabetes</th>\n",
       "      <th>Alcoholism</th>\n",
       "      <th>Handcap</th>\n",
       "      <th>SMS_received</th>\n",
       "    </tr>\n",
       "  </thead>\n",
       "  <tbody>\n",
       "    <tr>\n",
       "      <th>count</th>\n",
       "      <td>1.105270e+05</td>\n",
       "      <td>1.105270e+05</td>\n",
       "      <td>110527.000000</td>\n",
       "      <td>110527.000000</td>\n",
       "      <td>110527.000000</td>\n",
       "      <td>110527.000000</td>\n",
       "      <td>110527.000000</td>\n",
       "      <td>110527.000000</td>\n",
       "      <td>110527.000000</td>\n",
       "    </tr>\n",
       "    <tr>\n",
       "      <th>mean</th>\n",
       "      <td>1.474963e+14</td>\n",
       "      <td>5.675305e+06</td>\n",
       "      <td>37.088874</td>\n",
       "      <td>0.098266</td>\n",
       "      <td>0.197246</td>\n",
       "      <td>0.071865</td>\n",
       "      <td>0.030400</td>\n",
       "      <td>0.022248</td>\n",
       "      <td>0.321026</td>\n",
       "    </tr>\n",
       "    <tr>\n",
       "      <th>std</th>\n",
       "      <td>2.560949e+14</td>\n",
       "      <td>7.129575e+04</td>\n",
       "      <td>23.110205</td>\n",
       "      <td>0.297675</td>\n",
       "      <td>0.397921</td>\n",
       "      <td>0.258265</td>\n",
       "      <td>0.171686</td>\n",
       "      <td>0.161543</td>\n",
       "      <td>0.466873</td>\n",
       "    </tr>\n",
       "    <tr>\n",
       "      <th>min</th>\n",
       "      <td>3.921784e+04</td>\n",
       "      <td>5.030230e+06</td>\n",
       "      <td>-1.000000</td>\n",
       "      <td>0.000000</td>\n",
       "      <td>0.000000</td>\n",
       "      <td>0.000000</td>\n",
       "      <td>0.000000</td>\n",
       "      <td>0.000000</td>\n",
       "      <td>0.000000</td>\n",
       "    </tr>\n",
       "    <tr>\n",
       "      <th>25%</th>\n",
       "      <td>4.172614e+12</td>\n",
       "      <td>5.640286e+06</td>\n",
       "      <td>18.000000</td>\n",
       "      <td>0.000000</td>\n",
       "      <td>0.000000</td>\n",
       "      <td>0.000000</td>\n",
       "      <td>0.000000</td>\n",
       "      <td>0.000000</td>\n",
       "      <td>0.000000</td>\n",
       "    </tr>\n",
       "    <tr>\n",
       "      <th>50%</th>\n",
       "      <td>3.173184e+13</td>\n",
       "      <td>5.680573e+06</td>\n",
       "      <td>37.000000</td>\n",
       "      <td>0.000000</td>\n",
       "      <td>0.000000</td>\n",
       "      <td>0.000000</td>\n",
       "      <td>0.000000</td>\n",
       "      <td>0.000000</td>\n",
       "      <td>0.000000</td>\n",
       "    </tr>\n",
       "    <tr>\n",
       "      <th>75%</th>\n",
       "      <td>9.439172e+13</td>\n",
       "      <td>5.725524e+06</td>\n",
       "      <td>55.000000</td>\n",
       "      <td>0.000000</td>\n",
       "      <td>0.000000</td>\n",
       "      <td>0.000000</td>\n",
       "      <td>0.000000</td>\n",
       "      <td>0.000000</td>\n",
       "      <td>1.000000</td>\n",
       "    </tr>\n",
       "    <tr>\n",
       "      <th>max</th>\n",
       "      <td>9.999816e+14</td>\n",
       "      <td>5.790484e+06</td>\n",
       "      <td>115.000000</td>\n",
       "      <td>1.000000</td>\n",
       "      <td>1.000000</td>\n",
       "      <td>1.000000</td>\n",
       "      <td>1.000000</td>\n",
       "      <td>4.000000</td>\n",
       "      <td>1.000000</td>\n",
       "    </tr>\n",
       "  </tbody>\n",
       "</table>\n",
       "</div>"
      ],
      "text/plain": [
       "          PatientId  AppointmentID            Age    Scholarship  \\\n",
       "count  1.105270e+05   1.105270e+05  110527.000000  110527.000000   \n",
       "mean   1.474963e+14   5.675305e+06      37.088874       0.098266   \n",
       "std    2.560949e+14   7.129575e+04      23.110205       0.297675   \n",
       "min    3.921784e+04   5.030230e+06      -1.000000       0.000000   \n",
       "25%    4.172614e+12   5.640286e+06      18.000000       0.000000   \n",
       "50%    3.173184e+13   5.680573e+06      37.000000       0.000000   \n",
       "75%    9.439172e+13   5.725524e+06      55.000000       0.000000   \n",
       "max    9.999816e+14   5.790484e+06     115.000000       1.000000   \n",
       "\n",
       "        Hipertension       Diabetes     Alcoholism        Handcap  \\\n",
       "count  110527.000000  110527.000000  110527.000000  110527.000000   \n",
       "mean        0.197246       0.071865       0.030400       0.022248   \n",
       "std         0.397921       0.258265       0.171686       0.161543   \n",
       "min         0.000000       0.000000       0.000000       0.000000   \n",
       "25%         0.000000       0.000000       0.000000       0.000000   \n",
       "50%         0.000000       0.000000       0.000000       0.000000   \n",
       "75%         0.000000       0.000000       0.000000       0.000000   \n",
       "max         1.000000       1.000000       1.000000       4.000000   \n",
       "\n",
       "        SMS_received  \n",
       "count  110527.000000  \n",
       "mean        0.321026  \n",
       "std         0.466873  \n",
       "min         0.000000  \n",
       "25%         0.000000  \n",
       "50%         0.000000  \n",
       "75%         1.000000  \n",
       "max         1.000000  "
      ]
     },
     "execution_count": 11,
     "metadata": {},
     "output_type": "execute_result"
    }
   ],
   "source": [
    "appointments.describe()"
   ]
  },
  {
   "cell_type": "markdown",
   "metadata": {
    "collapsed": true
   },
   "source": [
    "### Issues\n",
    "- uppercase column names\n",
    "- incorrectly spelled column names (Hipertension, Handcap)\n",
    "- patientid, appointmentid, AppoinmentDay, ScheduledDay, no-show are not consistent with SMS_recieved\n",
    "- incorrect patient id dtype\n",
    "- scheduleday and appointmentday columns are strings\n",
    "- incorrect gender dtype\n",
    "- confusing values for No-show column\n",
    "- other numbers are given for True (1) or False (0) for Handicap column - 2, 3, 4\n",
    "- negative number (-1) for age\n",
    "- raw integer values for age are not very useful to see different trends\n",
    "- the placement of issue types (hypertension, diabetes, alcoholism, handicap) makes visualisations difficult\n",
    "- surprising appointment days. There seems to be only 27 unique dates for appointments. This issue will be addressed after converting schedule and appointment columns to datetime"
   ]
  },
  {
   "cell_type": "markdown",
   "metadata": {},
   "source": [
    "### Data Cleaning"
   ]
  },
  {
   "cell_type": "code",
   "execution_count": 12,
   "metadata": {},
   "outputs": [],
   "source": [
    "# Make a copy of the dataset\n",
    "copy = appointments.copy()"
   ]
  },
  {
   "cell_type": "markdown",
   "metadata": {
    "collapsed": true
   },
   "source": [
    "#### Uppercase column namese"
   ]
  },
  {
   "cell_type": "code",
   "execution_count": 13,
   "metadata": {
    "scrolled": true
   },
   "outputs": [
    {
     "data": {
      "text/html": [
       "<div>\n",
       "<style scoped>\n",
       "    .dataframe tbody tr th:only-of-type {\n",
       "        vertical-align: middle;\n",
       "    }\n",
       "\n",
       "    .dataframe tbody tr th {\n",
       "        vertical-align: top;\n",
       "    }\n",
       "\n",
       "    .dataframe thead th {\n",
       "        text-align: right;\n",
       "    }\n",
       "</style>\n",
       "<table border=\"1\" class=\"dataframe\">\n",
       "  <thead>\n",
       "    <tr style=\"text-align: right;\">\n",
       "      <th></th>\n",
       "      <th>patientid</th>\n",
       "      <th>appointmentid</th>\n",
       "      <th>gender</th>\n",
       "      <th>scheduledday</th>\n",
       "      <th>appointmentday</th>\n",
       "      <th>age</th>\n",
       "      <th>neighbourhood</th>\n",
       "      <th>scholarship</th>\n",
       "      <th>hipertension</th>\n",
       "      <th>diabetes</th>\n",
       "      <th>alcoholism</th>\n",
       "      <th>handcap</th>\n",
       "      <th>sms_received</th>\n",
       "      <th>no-show</th>\n",
       "    </tr>\n",
       "  </thead>\n",
       "  <tbody>\n",
       "    <tr>\n",
       "      <th>0</th>\n",
       "      <td>2.987250e+13</td>\n",
       "      <td>5642903</td>\n",
       "      <td>F</td>\n",
       "      <td>2016-04-29T18:38:08Z</td>\n",
       "      <td>2016-04-29T00:00:00Z</td>\n",
       "      <td>62</td>\n",
       "      <td>JARDIM DA PENHA</td>\n",
       "      <td>0</td>\n",
       "      <td>1</td>\n",
       "      <td>0</td>\n",
       "      <td>0</td>\n",
       "      <td>0</td>\n",
       "      <td>0</td>\n",
       "      <td>No</td>\n",
       "    </tr>\n",
       "    <tr>\n",
       "      <th>1</th>\n",
       "      <td>5.589978e+14</td>\n",
       "      <td>5642503</td>\n",
       "      <td>M</td>\n",
       "      <td>2016-04-29T16:08:27Z</td>\n",
       "      <td>2016-04-29T00:00:00Z</td>\n",
       "      <td>56</td>\n",
       "      <td>JARDIM DA PENHA</td>\n",
       "      <td>0</td>\n",
       "      <td>0</td>\n",
       "      <td>0</td>\n",
       "      <td>0</td>\n",
       "      <td>0</td>\n",
       "      <td>0</td>\n",
       "      <td>No</td>\n",
       "    </tr>\n",
       "    <tr>\n",
       "      <th>2</th>\n",
       "      <td>4.262962e+12</td>\n",
       "      <td>5642549</td>\n",
       "      <td>F</td>\n",
       "      <td>2016-04-29T16:19:04Z</td>\n",
       "      <td>2016-04-29T00:00:00Z</td>\n",
       "      <td>62</td>\n",
       "      <td>MATA DA PRAIA</td>\n",
       "      <td>0</td>\n",
       "      <td>0</td>\n",
       "      <td>0</td>\n",
       "      <td>0</td>\n",
       "      <td>0</td>\n",
       "      <td>0</td>\n",
       "      <td>No</td>\n",
       "    </tr>\n",
       "    <tr>\n",
       "      <th>3</th>\n",
       "      <td>8.679512e+11</td>\n",
       "      <td>5642828</td>\n",
       "      <td>F</td>\n",
       "      <td>2016-04-29T17:29:31Z</td>\n",
       "      <td>2016-04-29T00:00:00Z</td>\n",
       "      <td>8</td>\n",
       "      <td>PONTAL DE CAMBURI</td>\n",
       "      <td>0</td>\n",
       "      <td>0</td>\n",
       "      <td>0</td>\n",
       "      <td>0</td>\n",
       "      <td>0</td>\n",
       "      <td>0</td>\n",
       "      <td>No</td>\n",
       "    </tr>\n",
       "    <tr>\n",
       "      <th>4</th>\n",
       "      <td>8.841186e+12</td>\n",
       "      <td>5642494</td>\n",
       "      <td>F</td>\n",
       "      <td>2016-04-29T16:07:23Z</td>\n",
       "      <td>2016-04-29T00:00:00Z</td>\n",
       "      <td>56</td>\n",
       "      <td>JARDIM DA PENHA</td>\n",
       "      <td>0</td>\n",
       "      <td>1</td>\n",
       "      <td>1</td>\n",
       "      <td>0</td>\n",
       "      <td>0</td>\n",
       "      <td>0</td>\n",
       "      <td>No</td>\n",
       "    </tr>\n",
       "  </tbody>\n",
       "</table>\n",
       "</div>"
      ],
      "text/plain": [
       "      patientid  appointmentid gender          scheduledday  \\\n",
       "0  2.987250e+13        5642903      F  2016-04-29T18:38:08Z   \n",
       "1  5.589978e+14        5642503      M  2016-04-29T16:08:27Z   \n",
       "2  4.262962e+12        5642549      F  2016-04-29T16:19:04Z   \n",
       "3  8.679512e+11        5642828      F  2016-04-29T17:29:31Z   \n",
       "4  8.841186e+12        5642494      F  2016-04-29T16:07:23Z   \n",
       "\n",
       "         appointmentday  age      neighbourhood  scholarship  hipertension  \\\n",
       "0  2016-04-29T00:00:00Z   62    JARDIM DA PENHA            0             1   \n",
       "1  2016-04-29T00:00:00Z   56    JARDIM DA PENHA            0             0   \n",
       "2  2016-04-29T00:00:00Z   62      MATA DA PRAIA            0             0   \n",
       "3  2016-04-29T00:00:00Z    8  PONTAL DE CAMBURI            0             0   \n",
       "4  2016-04-29T00:00:00Z   56    JARDIM DA PENHA            0             1   \n",
       "\n",
       "   diabetes  alcoholism  handcap  sms_received no-show  \n",
       "0         0           0        0             0      No  \n",
       "1         0           0        0             0      No  \n",
       "2         0           0        0             0      No  \n",
       "3         0           0        0             0      No  \n",
       "4         1           0        0             0      No  "
      ]
     },
     "execution_count": 13,
     "metadata": {},
     "output_type": "execute_result"
    }
   ],
   "source": [
    "# Turn all column names to lowercase\n",
    "appointments.columns = appointments.columns.str.lower()\n",
    "# Test\n",
    "appointments.head()"
   ]
  },
  {
   "cell_type": "markdown",
   "metadata": {},
   "source": [
    "#### Incorrectly spelled column names (Hipertension, Handcap)"
   ]
  },
  {
   "cell_type": "code",
   "execution_count": 14,
   "metadata": {},
   "outputs": [
    {
     "data": {
      "text/plain": [
       "Index(['patientid', 'appointmentid', 'gender', 'scheduledday',\n",
       "       'appointmentday', 'age', 'neighbourhood', 'scholarship', 'hypertension',\n",
       "       'diabetes', 'alcoholism', 'handicap', 'sms_received', 'no-show'],\n",
       "      dtype='object')"
      ]
     },
     "execution_count": 14,
     "metadata": {},
     "output_type": "execute_result"
    }
   ],
   "source": [
    "# Rename the above columns\n",
    "appointments.rename(columns={'hipertension': 'hypertension',\n",
    "                             'handcap': 'handicap'}, inplace=True)\n",
    "# Test\n",
    "appointments.columns"
   ]
  },
  {
   "cell_type": "markdown",
   "metadata": {},
   "source": [
    "#### Patientid, appointmentid, AppoinmentDay, ScheduledDay, no-show are not consistent with SMS_recieved"
   ]
  },
  {
   "cell_type": "code",
   "execution_count": 15,
   "metadata": {},
   "outputs": [
    {
     "data": {
      "text/plain": [
       "Index(['patient_id', 'appointment_id', 'gender', 'scheduled_day',\n",
       "       'appointment_day', 'age', 'neighbourhood', 'scholarship',\n",
       "       'hypertension', 'diabetes', 'alcoholism', 'handicap', 'sms_received',\n",
       "       'no_show'],\n",
       "      dtype='object')"
      ]
     },
     "execution_count": 15,
     "metadata": {},
     "output_type": "execute_result"
    }
   ],
   "source": [
    "# Rename the above columns\n",
    "appointments.rename(columns={'appointmentday': 'appointment_day',\n",
    " 'scheduledday': 'scheduled_day', 'patientid': 'patient_id',\n",
    "    'appointmentid': 'appointment_id', 'no-show': 'no_show'}, inplace=True)\n",
    "# Test\n",
    "appointments.columns"
   ]
  },
  {
   "cell_type": "markdown",
   "metadata": {},
   "source": [
    "#### Other numbers are given for True (1) or False (0) for Handicap column - 2, 3, 4"
   ]
  },
  {
   "cell_type": "code",
   "execution_count": 16,
   "metadata": {
    "scrolled": true
   },
   "outputs": [
    {
     "data": {
      "text/plain": [
       "0    108286\n",
       "1      2241\n",
       "Name: handicap, dtype: int64"
      ]
     },
     "execution_count": 16,
     "metadata": {},
     "output_type": "execute_result"
    }
   ],
   "source": [
    "# Replace all the values with ones if not 0\n",
    "appointments.handicap = appointments.handicap.apply(\n",
    "            lambda x: 1 if x != 0 else x).astype(dtype=np.int64)\n",
    "\n",
    "# Test\n",
    "appointments.handicap.value_counts()"
   ]
  },
  {
   "cell_type": "markdown",
   "metadata": {},
   "source": [
    "#### Raw integer values are not very useful to see different trends"
   ]
  },
  {
   "cell_type": "markdown",
   "metadata": {},
   "source": [
    "I will create a custom function to divide the age column into different age groups in a new column"
   ]
  },
  {
   "cell_type": "code",
   "execution_count": 17,
   "metadata": {},
   "outputs": [],
   "source": [
    "def group_age(age):\n",
    "    \"\"\"Groups the ages into 6 different groups:\n",
    "    Children, Teenagers, Yound Adults, Middle Age Adults, Elderly, over 90\"\"\"\n",
    "    if 0 <= age < 12:\n",
    "        return 'children'\n",
    "    elif 12 <= age < 19:\n",
    "        return 'teenagers'\n",
    "    elif 19 <= age < 35:\n",
    "        return 'young adults'\n",
    "    elif 35 <= age < 60:\n",
    "        return 'middle age adults'\n",
    "    elif 60 <= age < 90:\n",
    "        return 'elderly'\n",
    "    else:\n",
    "        return 'over 90'"
   ]
  },
  {
   "cell_type": "code",
   "execution_count": 18,
   "metadata": {
    "scrolled": false
   },
   "outputs": [
    {
     "data": {
      "text/html": [
       "<div>\n",
       "<style scoped>\n",
       "    .dataframe tbody tr th:only-of-type {\n",
       "        vertical-align: middle;\n",
       "    }\n",
       "\n",
       "    .dataframe tbody tr th {\n",
       "        vertical-align: top;\n",
       "    }\n",
       "\n",
       "    .dataframe thead th {\n",
       "        text-align: right;\n",
       "    }\n",
       "</style>\n",
       "<table border=\"1\" class=\"dataframe\">\n",
       "  <thead>\n",
       "    <tr style=\"text-align: right;\">\n",
       "      <th></th>\n",
       "      <th>patient_id</th>\n",
       "      <th>appointment_id</th>\n",
       "      <th>gender</th>\n",
       "      <th>scheduled_day</th>\n",
       "      <th>appointment_day</th>\n",
       "      <th>age</th>\n",
       "      <th>neighbourhood</th>\n",
       "      <th>scholarship</th>\n",
       "      <th>hypertension</th>\n",
       "      <th>diabetes</th>\n",
       "      <th>alcoholism</th>\n",
       "      <th>handicap</th>\n",
       "      <th>sms_received</th>\n",
       "      <th>no_show</th>\n",
       "      <th>age_groups</th>\n",
       "    </tr>\n",
       "  </thead>\n",
       "  <tbody>\n",
       "    <tr>\n",
       "      <th>102219</th>\n",
       "      <td>9.232457e+12</td>\n",
       "      <td>5737274</td>\n",
       "      <td>F</td>\n",
       "      <td>2016-05-25T09:24:54Z</td>\n",
       "      <td>2016-06-07T00:00:00Z</td>\n",
       "      <td>58</td>\n",
       "      <td>CRUZAMENTO</td>\n",
       "      <td>0</td>\n",
       "      <td>1</td>\n",
       "      <td>0</td>\n",
       "      <td>0</td>\n",
       "      <td>0</td>\n",
       "      <td>1</td>\n",
       "      <td>No</td>\n",
       "      <td>middle age adults</td>\n",
       "    </tr>\n",
       "    <tr>\n",
       "      <th>93888</th>\n",
       "      <td>3.546672e+14</td>\n",
       "      <td>5783450</td>\n",
       "      <td>M</td>\n",
       "      <td>2016-06-07T13:56:33Z</td>\n",
       "      <td>2016-06-07T00:00:00Z</td>\n",
       "      <td>47</td>\n",
       "      <td>SANTA MARTHA</td>\n",
       "      <td>0</td>\n",
       "      <td>0</td>\n",
       "      <td>0</td>\n",
       "      <td>0</td>\n",
       "      <td>1</td>\n",
       "      <td>0</td>\n",
       "      <td>No</td>\n",
       "      <td>middle age adults</td>\n",
       "    </tr>\n",
       "    <tr>\n",
       "      <th>57288</th>\n",
       "      <td>2.681324e+14</td>\n",
       "      <td>5748412</td>\n",
       "      <td>F</td>\n",
       "      <td>2016-05-31T07:01:40Z</td>\n",
       "      <td>2016-05-31T00:00:00Z</td>\n",
       "      <td>45</td>\n",
       "      <td>MARIA ORTIZ</td>\n",
       "      <td>0</td>\n",
       "      <td>0</td>\n",
       "      <td>0</td>\n",
       "      <td>0</td>\n",
       "      <td>0</td>\n",
       "      <td>0</td>\n",
       "      <td>No</td>\n",
       "      <td>middle age adults</td>\n",
       "    </tr>\n",
       "    <tr>\n",
       "      <th>73767</th>\n",
       "      <td>7.699117e+11</td>\n",
       "      <td>5706645</td>\n",
       "      <td>M</td>\n",
       "      <td>2016-05-17T08:37:57Z</td>\n",
       "      <td>2016-05-20T00:00:00Z</td>\n",
       "      <td>45</td>\n",
       "      <td>SÃO PEDRO</td>\n",
       "      <td>0</td>\n",
       "      <td>1</td>\n",
       "      <td>0</td>\n",
       "      <td>0</td>\n",
       "      <td>0</td>\n",
       "      <td>0</td>\n",
       "      <td>No</td>\n",
       "      <td>middle age adults</td>\n",
       "    </tr>\n",
       "    <tr>\n",
       "      <th>15162</th>\n",
       "      <td>6.984379e+11</td>\n",
       "      <td>5682333</td>\n",
       "      <td>M</td>\n",
       "      <td>2016-05-10T16:16:49Z</td>\n",
       "      <td>2016-05-17T00:00:00Z</td>\n",
       "      <td>52</td>\n",
       "      <td>CENTRO</td>\n",
       "      <td>0</td>\n",
       "      <td>0</td>\n",
       "      <td>0</td>\n",
       "      <td>0</td>\n",
       "      <td>0</td>\n",
       "      <td>0</td>\n",
       "      <td>No</td>\n",
       "      <td>middle age adults</td>\n",
       "    </tr>\n",
       "    <tr>\n",
       "      <th>55990</th>\n",
       "      <td>1.324476e+11</td>\n",
       "      <td>5669120</td>\n",
       "      <td>F</td>\n",
       "      <td>2016-05-06T10:22:06Z</td>\n",
       "      <td>2016-05-20T00:00:00Z</td>\n",
       "      <td>11</td>\n",
       "      <td>SÃO JOSÉ</td>\n",
       "      <td>0</td>\n",
       "      <td>0</td>\n",
       "      <td>0</td>\n",
       "      <td>0</td>\n",
       "      <td>0</td>\n",
       "      <td>0</td>\n",
       "      <td>No</td>\n",
       "      <td>children</td>\n",
       "    </tr>\n",
       "    <tr>\n",
       "      <th>90910</th>\n",
       "      <td>9.934391e+13</td>\n",
       "      <td>5780296</td>\n",
       "      <td>F</td>\n",
       "      <td>2016-06-07T07:52:07Z</td>\n",
       "      <td>2016-06-07T00:00:00Z</td>\n",
       "      <td>53</td>\n",
       "      <td>SANTA LÚCIA</td>\n",
       "      <td>0</td>\n",
       "      <td>0</td>\n",
       "      <td>0</td>\n",
       "      <td>0</td>\n",
       "      <td>0</td>\n",
       "      <td>0</td>\n",
       "      <td>No</td>\n",
       "      <td>middle age adults</td>\n",
       "    </tr>\n",
       "    <tr>\n",
       "      <th>85654</th>\n",
       "      <td>3.464184e+13</td>\n",
       "      <td>5755333</td>\n",
       "      <td>F</td>\n",
       "      <td>2016-06-01T07:17:34Z</td>\n",
       "      <td>2016-06-07T00:00:00Z</td>\n",
       "      <td>55</td>\n",
       "      <td>ILHA DO PRÍNCIPE</td>\n",
       "      <td>0</td>\n",
       "      <td>0</td>\n",
       "      <td>0</td>\n",
       "      <td>0</td>\n",
       "      <td>0</td>\n",
       "      <td>1</td>\n",
       "      <td>No</td>\n",
       "      <td>middle age adults</td>\n",
       "    </tr>\n",
       "    <tr>\n",
       "      <th>68225</th>\n",
       "      <td>5.428677e+10</td>\n",
       "      <td>5581171</td>\n",
       "      <td>M</td>\n",
       "      <td>2016-04-14T07:44:36Z</td>\n",
       "      <td>2016-05-30T00:00:00Z</td>\n",
       "      <td>62</td>\n",
       "      <td>ANDORINHAS</td>\n",
       "      <td>0</td>\n",
       "      <td>1</td>\n",
       "      <td>1</td>\n",
       "      <td>0</td>\n",
       "      <td>0</td>\n",
       "      <td>0</td>\n",
       "      <td>No</td>\n",
       "      <td>elderly</td>\n",
       "    </tr>\n",
       "    <tr>\n",
       "      <th>34027</th>\n",
       "      <td>6.328428e+14</td>\n",
       "      <td>5716769</td>\n",
       "      <td>M</td>\n",
       "      <td>2016-05-19T07:11:59Z</td>\n",
       "      <td>2016-05-19T00:00:00Z</td>\n",
       "      <td>49</td>\n",
       "      <td>GURIGICA</td>\n",
       "      <td>1</td>\n",
       "      <td>0</td>\n",
       "      <td>0</td>\n",
       "      <td>0</td>\n",
       "      <td>0</td>\n",
       "      <td>0</td>\n",
       "      <td>No</td>\n",
       "      <td>middle age adults</td>\n",
       "    </tr>\n",
       "  </tbody>\n",
       "</table>\n",
       "</div>"
      ],
      "text/plain": [
       "          patient_id  appointment_id gender         scheduled_day  \\\n",
       "102219  9.232457e+12         5737274      F  2016-05-25T09:24:54Z   \n",
       "93888   3.546672e+14         5783450      M  2016-06-07T13:56:33Z   \n",
       "57288   2.681324e+14         5748412      F  2016-05-31T07:01:40Z   \n",
       "73767   7.699117e+11         5706645      M  2016-05-17T08:37:57Z   \n",
       "15162   6.984379e+11         5682333      M  2016-05-10T16:16:49Z   \n",
       "55990   1.324476e+11         5669120      F  2016-05-06T10:22:06Z   \n",
       "90910   9.934391e+13         5780296      F  2016-06-07T07:52:07Z   \n",
       "85654   3.464184e+13         5755333      F  2016-06-01T07:17:34Z   \n",
       "68225   5.428677e+10         5581171      M  2016-04-14T07:44:36Z   \n",
       "34027   6.328428e+14         5716769      M  2016-05-19T07:11:59Z   \n",
       "\n",
       "             appointment_day  age     neighbourhood  scholarship  \\\n",
       "102219  2016-06-07T00:00:00Z   58        CRUZAMENTO            0   \n",
       "93888   2016-06-07T00:00:00Z   47      SANTA MARTHA            0   \n",
       "57288   2016-05-31T00:00:00Z   45       MARIA ORTIZ            0   \n",
       "73767   2016-05-20T00:00:00Z   45         SÃO PEDRO            0   \n",
       "15162   2016-05-17T00:00:00Z   52            CENTRO            0   \n",
       "55990   2016-05-20T00:00:00Z   11          SÃO JOSÉ            0   \n",
       "90910   2016-06-07T00:00:00Z   53       SANTA LÚCIA            0   \n",
       "85654   2016-06-07T00:00:00Z   55  ILHA DO PRÍNCIPE            0   \n",
       "68225   2016-05-30T00:00:00Z   62        ANDORINHAS            0   \n",
       "34027   2016-05-19T00:00:00Z   49          GURIGICA            1   \n",
       "\n",
       "        hypertension  diabetes  alcoholism  handicap  sms_received no_show  \\\n",
       "102219             1         0           0         0             1      No   \n",
       "93888              0         0           0         1             0      No   \n",
       "57288              0         0           0         0             0      No   \n",
       "73767              1         0           0         0             0      No   \n",
       "15162              0         0           0         0             0      No   \n",
       "55990              0         0           0         0             0      No   \n",
       "90910              0         0           0         0             0      No   \n",
       "85654              0         0           0         0             1      No   \n",
       "68225              1         1           0         0             0      No   \n",
       "34027              0         0           0         0             0      No   \n",
       "\n",
       "               age_groups  \n",
       "102219  middle age adults  \n",
       "93888   middle age adults  \n",
       "57288   middle age adults  \n",
       "73767   middle age adults  \n",
       "15162   middle age adults  \n",
       "55990            children  \n",
       "90910   middle age adults  \n",
       "85654   middle age adults  \n",
       "68225             elderly  \n",
       "34027   middle age adults  "
      ]
     },
     "execution_count": 18,
     "metadata": {},
     "output_type": "execute_result"
    }
   ],
   "source": [
    "# Run the above function\n",
    "appointments['age_groups'] = appointments.age.apply(group_age)\n",
    "\n",
    "# Test\n",
    "appointments.sample(10)"
   ]
  },
  {
   "cell_type": "markdown",
   "metadata": {},
   "source": [
    "#### The placement of issue types (hypertension, diabetes, alcoholism, handicap) makes visualisations difficult"
   ]
  },
  {
   "cell_type": "code",
   "execution_count": 19,
   "metadata": {},
   "outputs": [],
   "source": [
    "def group_issues(df):\n",
    "    \"\"\"Assigns an issue label for every patient who had an appointment.\n",
    "       If no or multiple issues, the function returns \"none\" or \n",
    "       \"multiple\" accordingly\n",
    "    \"\"\"\n",
    "    # Create a new column for the new variable\n",
    "    df['issue'] = (df.hypertension + df.diabetes + df.alcoholism + df.handicap).astype(np.int64)\n",
    "    \n",
    "    # Convert 0s to 'none' and values greater than 1 to 'multiple'\n",
    "    df.issue = df.issue.apply(lambda x: 'none' if x == 0 else 'multiple' if x > 1 else x)\n",
    "\n",
    "    # Convert the remaining records (patiens with only one issue) \n",
    "    # to issue name\n",
    "    for i in range(df.shape[0]):\n",
    "        if df.iloc[i].issue == 1 and df.iloc[i].hypertension == 1:\n",
    "            df.loc[i, 'issue'] = 'hypertension'\n",
    "        elif df.iloc[i].issue == 1 and df.iloc[i].diabetes == 1:\n",
    "            df.loc[i, 'issue'] = 'diabetes'\n",
    "        elif df.iloc[i].issue == 1 and df.iloc[i].alcoholism == 1:\n",
    "            df.loc[i, 'issue'] = 'alcoholism'\n",
    "        elif df.iloc[i].issue == 1 and df.iloc[i].handicap == 1:\n",
    "            df.loc[i, 'issue'] = 'handicap'"
   ]
  },
  {
   "cell_type": "code",
   "execution_count": 20,
   "metadata": {},
   "outputs": [],
   "source": [
    "# Run the above function on the dataframe to get issue groups\n",
    "group_issues(appointments)"
   ]
  },
  {
   "cell_type": "code",
   "execution_count": 21,
   "metadata": {
    "scrolled": true
   },
   "outputs": [
    {
     "data": {
      "text/plain": [
       "issue         issue       \n",
       "alcoholism    alcoholism       1922\n",
       "diabetes      diabetes         1341\n",
       "handicap      handicap         1197\n",
       "hypertension  hypertension    13663\n",
       "multiple      multiple         8289\n",
       "none          none            84115\n",
       "Name: issue, dtype: int64"
      ]
     },
     "execution_count": 21,
     "metadata": {},
     "output_type": "execute_result"
    }
   ],
   "source": [
    "# Test\n",
    "appointments.groupby('issue').issue.value_counts()"
   ]
  },
  {
   "cell_type": "markdown",
   "metadata": {},
   "source": [
    "#### Incorrect patient id dtype"
   ]
  },
  {
   "cell_type": "code",
   "execution_count": 22,
   "metadata": {
    "scrolled": true
   },
   "outputs": [
    {
     "data": {
      "text/plain": [
       "(dtype('int64'), 62299)"
      ]
     },
     "execution_count": 22,
     "metadata": {},
     "output_type": "execute_result"
    }
   ],
   "source": [
    "# Set the datatype of patient id to int\n",
    "# I used string manipulation to convert patient ids from scientific notation to\n",
    "# string, then got rid of all decimals. If works correctly, it still should give\n",
    "# us the same number of unique patient ids\n",
    "appointments.patient_id = appointments.patient_id.astype(str).str.strip('.0').str.replace('.', '').astype(dtype=np.int64)\n",
    "\n",
    "# Test\n",
    "appointments.patient_id.dtype, appointments.patient_id.nunique()"
   ]
  },
  {
   "cell_type": "markdown",
   "metadata": {},
   "source": [
    "#### Scheduled_day and appointment_day columns are strings"
   ]
  },
  {
   "cell_type": "code",
   "execution_count": 23,
   "metadata": {},
   "outputs": [
    {
     "data": {
      "text/plain": [
       "patient_id                       int64\n",
       "appointment_id                   int64\n",
       "gender                          object\n",
       "scheduled_day      datetime64[ns, UTC]\n",
       "appointment_day    datetime64[ns, UTC]\n",
       "age                              int64\n",
       "neighbourhood                   object\n",
       "scholarship                      int64\n",
       "hypertension                     int64\n",
       "diabetes                         int64\n",
       "alcoholism                       int64\n",
       "handicap                         int64\n",
       "sms_received                     int64\n",
       "no_show                         object\n",
       "age_groups                      object\n",
       "issue                           object\n",
       "dtype: object"
      ]
     },
     "execution_count": 23,
     "metadata": {},
     "output_type": "execute_result"
    }
   ],
   "source": [
    "# Convert columns to datetime\n",
    "appointments['scheduled_day'] = pd.to_datetime(appointments['scheduled_day'])\n",
    "appointments['appointment_day'] = pd.to_datetime(appointments['appointment_day'])\n",
    "\n",
    "# Test\n",
    "appointments.dtypes"
   ]
  },
  {
   "cell_type": "markdown",
   "metadata": {},
   "source": [
    "#### Incorrect gender dtype"
   ]
  },
  {
   "cell_type": "code",
   "execution_count": 24,
   "metadata": {},
   "outputs": [
    {
     "data": {
      "text/plain": [
       "CategoricalDtype(categories=['F', 'M'], ordered=False)"
      ]
     },
     "execution_count": 24,
     "metadata": {},
     "output_type": "execute_result"
    }
   ],
   "source": [
    "# Convert gender column to categorical dtype\n",
    "appointments.gender = appointments.gender.astype(dtype='category')\n",
    "\n",
    "# Test\n",
    "appointments.gender.dtype"
   ]
  },
  {
   "cell_type": "markdown",
   "metadata": {},
   "source": [
    "#### String values for no_show column"
   ]
  },
  {
   "cell_type": "code",
   "execution_count": 25,
   "metadata": {},
   "outputs": [
    {
     "data": {
      "text/plain": [
       "1    88208\n",
       "0    22319\n",
       "Name: attended, dtype: int64"
      ]
     },
     "execution_count": 25,
     "metadata": {},
     "output_type": "execute_result"
    }
   ],
   "source": [
    "# First, this column uses yes or no in a confusing manner. Let's fix that\n",
    "# Also, change the column name to a more intuitive one\n",
    "appointments.no_show = appointments.no_show.apply(\n",
    "                                lambda x: \"Yes\" if x == 'No' else 'No')\n",
    "\n",
    "appointments.rename(columns={'no_show': 'attended'}, inplace=True)\n",
    "\n",
    "# Now, convert them to 0s and 1s\n",
    "appointments.attended = appointments.attended.apply(\n",
    "                       lambda x: 1 if x == 'Yes' else 0)\n",
    "\n",
    "# Test\n",
    "appointments.attended.value_counts()"
   ]
  },
  {
   "cell_type": "markdown",
   "metadata": {},
   "source": [
    "#### Negative number (-1) for age"
   ]
  },
  {
   "cell_type": "code",
   "execution_count": 26,
   "metadata": {},
   "outputs": [
    {
     "data": {
      "text/plain": [
       "0      3539\n",
       "1      2273\n",
       "52     1746\n",
       "49     1652\n",
       "53     1651\n",
       "       ... \n",
       "98        6\n",
       "115       5\n",
       "100       4\n",
       "102       2\n",
       "99        1\n",
       "Name: age, Length: 103, dtype: int64"
      ]
     },
     "execution_count": 26,
     "metadata": {},
     "output_type": "execute_result"
    }
   ],
   "source": [
    "# Drop the row with negative age\n",
    "negative_index = appointments[appointments.age == -1].index\n",
    "appointments.drop(negative_index, inplace=True)\n",
    "\n",
    "# Test\n",
    "appointments.age.value_counts()"
   ]
  },
  {
   "cell_type": "markdown",
   "metadata": {},
   "source": [
    "#### Surprising appointment days. There seems to be only 27 unique dates for appointments. This issue will be addressed after converting schedule and appointment columns to datetime"
   ]
  },
  {
   "cell_type": "code",
   "execution_count": 27,
   "metadata": {
    "scrolled": true
   },
   "outputs": [
    {
     "data": {
      "text/plain": [
       "38567"
      ]
     },
     "execution_count": 27,
     "metadata": {},
     "output_type": "execute_result"
    }
   ],
   "source": [
    "(appointments.appointment_day - appointments.scheduled_day).astype(str).str.contains('-').sum()"
   ]
  },
  {
   "cell_type": "markdown",
   "metadata": {},
   "source": [
    "There seems to be almost 39k appointment records which had schedule day later than appointment day which does not make sense (patients should first schedule, then come to appointments). Therefore, I am going look at all of the records with appointment day happening before schedule day."
   ]
  },
  {
   "cell_type": "code",
   "execution_count": 28,
   "metadata": {},
   "outputs": [
    {
     "data": {
      "text/html": [
       "<div>\n",
       "<style scoped>\n",
       "    .dataframe tbody tr th:only-of-type {\n",
       "        vertical-align: middle;\n",
       "    }\n",
       "\n",
       "    .dataframe tbody tr th {\n",
       "        vertical-align: top;\n",
       "    }\n",
       "\n",
       "    .dataframe thead th {\n",
       "        text-align: right;\n",
       "    }\n",
       "</style>\n",
       "<table border=\"1\" class=\"dataframe\">\n",
       "  <thead>\n",
       "    <tr style=\"text-align: right;\">\n",
       "      <th></th>\n",
       "      <th>patient_id</th>\n",
       "      <th>appointment_id</th>\n",
       "      <th>gender</th>\n",
       "      <th>scheduled_day</th>\n",
       "      <th>appointment_day</th>\n",
       "      <th>age</th>\n",
       "      <th>neighbourhood</th>\n",
       "      <th>scholarship</th>\n",
       "      <th>hypertension</th>\n",
       "      <th>diabetes</th>\n",
       "      <th>alcoholism</th>\n",
       "      <th>handicap</th>\n",
       "      <th>sms_received</th>\n",
       "      <th>attended</th>\n",
       "      <th>age_groups</th>\n",
       "      <th>issue</th>\n",
       "    </tr>\n",
       "  </thead>\n",
       "  <tbody>\n",
       "    <tr>\n",
       "      <th>0</th>\n",
       "      <td>29872499824296</td>\n",
       "      <td>5642903</td>\n",
       "      <td>F</td>\n",
       "      <td>2016-04-29 18:38:08+00:00</td>\n",
       "      <td>2016-04-29 00:00:00+00:00</td>\n",
       "      <td>62</td>\n",
       "      <td>JARDIM DA PENHA</td>\n",
       "      <td>0</td>\n",
       "      <td>1</td>\n",
       "      <td>0</td>\n",
       "      <td>0</td>\n",
       "      <td>0</td>\n",
       "      <td>0</td>\n",
       "      <td>1</td>\n",
       "      <td>elderly</td>\n",
       "      <td>hypertension</td>\n",
       "    </tr>\n",
       "    <tr>\n",
       "      <th>1</th>\n",
       "      <td>558997776694438</td>\n",
       "      <td>5642503</td>\n",
       "      <td>M</td>\n",
       "      <td>2016-04-29 16:08:27+00:00</td>\n",
       "      <td>2016-04-29 00:00:00+00:00</td>\n",
       "      <td>56</td>\n",
       "      <td>JARDIM DA PENHA</td>\n",
       "      <td>0</td>\n",
       "      <td>0</td>\n",
       "      <td>0</td>\n",
       "      <td>0</td>\n",
       "      <td>0</td>\n",
       "      <td>0</td>\n",
       "      <td>1</td>\n",
       "      <td>middle age adults</td>\n",
       "      <td>none</td>\n",
       "    </tr>\n",
       "    <tr>\n",
       "      <th>2</th>\n",
       "      <td>4262962299951</td>\n",
       "      <td>5642549</td>\n",
       "      <td>F</td>\n",
       "      <td>2016-04-29 16:19:04+00:00</td>\n",
       "      <td>2016-04-29 00:00:00+00:00</td>\n",
       "      <td>62</td>\n",
       "      <td>MATA DA PRAIA</td>\n",
       "      <td>0</td>\n",
       "      <td>0</td>\n",
       "      <td>0</td>\n",
       "      <td>0</td>\n",
       "      <td>0</td>\n",
       "      <td>0</td>\n",
       "      <td>1</td>\n",
       "      <td>elderly</td>\n",
       "      <td>none</td>\n",
       "    </tr>\n",
       "    <tr>\n",
       "      <th>3</th>\n",
       "      <td>867951213174</td>\n",
       "      <td>5642828</td>\n",
       "      <td>F</td>\n",
       "      <td>2016-04-29 17:29:31+00:00</td>\n",
       "      <td>2016-04-29 00:00:00+00:00</td>\n",
       "      <td>8</td>\n",
       "      <td>PONTAL DE CAMBURI</td>\n",
       "      <td>0</td>\n",
       "      <td>0</td>\n",
       "      <td>0</td>\n",
       "      <td>0</td>\n",
       "      <td>0</td>\n",
       "      <td>0</td>\n",
       "      <td>1</td>\n",
       "      <td>children</td>\n",
       "      <td>none</td>\n",
       "    </tr>\n",
       "    <tr>\n",
       "      <th>4</th>\n",
       "      <td>8841186448183</td>\n",
       "      <td>5642494</td>\n",
       "      <td>F</td>\n",
       "      <td>2016-04-29 16:07:23+00:00</td>\n",
       "      <td>2016-04-29 00:00:00+00:00</td>\n",
       "      <td>56</td>\n",
       "      <td>JARDIM DA PENHA</td>\n",
       "      <td>0</td>\n",
       "      <td>1</td>\n",
       "      <td>1</td>\n",
       "      <td>0</td>\n",
       "      <td>0</td>\n",
       "      <td>0</td>\n",
       "      <td>1</td>\n",
       "      <td>middle age adults</td>\n",
       "      <td>multiple</td>\n",
       "    </tr>\n",
       "    <tr>\n",
       "      <th>...</th>\n",
       "      <td>...</td>\n",
       "      <td>...</td>\n",
       "      <td>...</td>\n",
       "      <td>...</td>\n",
       "      <td>...</td>\n",
       "      <td>...</td>\n",
       "      <td>...</td>\n",
       "      <td>...</td>\n",
       "      <td>...</td>\n",
       "      <td>...</td>\n",
       "      <td>...</td>\n",
       "      <td>...</td>\n",
       "      <td>...</td>\n",
       "      <td>...</td>\n",
       "      <td>...</td>\n",
       "      <td>...</td>\n",
       "    </tr>\n",
       "    <tr>\n",
       "      <th>110511</th>\n",
       "      <td>823599626588</td>\n",
       "      <td>5786742</td>\n",
       "      <td>F</td>\n",
       "      <td>2016-06-08 08:50:20+00:00</td>\n",
       "      <td>2016-06-08 00:00:00+00:00</td>\n",
       "      <td>14</td>\n",
       "      <td>MARIA ORTIZ</td>\n",
       "      <td>0</td>\n",
       "      <td>0</td>\n",
       "      <td>0</td>\n",
       "      <td>0</td>\n",
       "      <td>0</td>\n",
       "      <td>0</td>\n",
       "      <td>1</td>\n",
       "      <td>teenagers</td>\n",
       "      <td>none</td>\n",
       "    </tr>\n",
       "    <tr>\n",
       "      <th>110512</th>\n",
       "      <td>98762456447375</td>\n",
       "      <td>5786368</td>\n",
       "      <td>F</td>\n",
       "      <td>2016-06-08 08:20:01+00:00</td>\n",
       "      <td>2016-06-08 00:00:00+00:00</td>\n",
       "      <td>41</td>\n",
       "      <td>MARIA ORTIZ</td>\n",
       "      <td>0</td>\n",
       "      <td>0</td>\n",
       "      <td>0</td>\n",
       "      <td>0</td>\n",
       "      <td>0</td>\n",
       "      <td>0</td>\n",
       "      <td>1</td>\n",
       "      <td>middle age adults</td>\n",
       "      <td>none</td>\n",
       "    </tr>\n",
       "    <tr>\n",
       "      <th>110513</th>\n",
       "      <td>86747784995281</td>\n",
       "      <td>5785964</td>\n",
       "      <td>M</td>\n",
       "      <td>2016-06-08 07:52:55+00:00</td>\n",
       "      <td>2016-06-08 00:00:00+00:00</td>\n",
       "      <td>2</td>\n",
       "      <td>ANTÔNIO HONÓRIO</td>\n",
       "      <td>0</td>\n",
       "      <td>0</td>\n",
       "      <td>0</td>\n",
       "      <td>0</td>\n",
       "      <td>0</td>\n",
       "      <td>0</td>\n",
       "      <td>1</td>\n",
       "      <td>children</td>\n",
       "      <td>none</td>\n",
       "    </tr>\n",
       "    <tr>\n",
       "      <th>110514</th>\n",
       "      <td>2695685177138</td>\n",
       "      <td>5786567</td>\n",
       "      <td>F</td>\n",
       "      <td>2016-06-08 08:35:31+00:00</td>\n",
       "      <td>2016-06-08 00:00:00+00:00</td>\n",
       "      <td>58</td>\n",
       "      <td>MARIA ORTIZ</td>\n",
       "      <td>0</td>\n",
       "      <td>0</td>\n",
       "      <td>0</td>\n",
       "      <td>0</td>\n",
       "      <td>0</td>\n",
       "      <td>0</td>\n",
       "      <td>1</td>\n",
       "      <td>middle age adults</td>\n",
       "      <td>none</td>\n",
       "    </tr>\n",
       "    <tr>\n",
       "      <th>110517</th>\n",
       "      <td>5574942418928</td>\n",
       "      <td>5780122</td>\n",
       "      <td>F</td>\n",
       "      <td>2016-06-07 07:38:34+00:00</td>\n",
       "      <td>2016-06-07 00:00:00+00:00</td>\n",
       "      <td>19</td>\n",
       "      <td>MARIA ORTIZ</td>\n",
       "      <td>0</td>\n",
       "      <td>0</td>\n",
       "      <td>0</td>\n",
       "      <td>0</td>\n",
       "      <td>0</td>\n",
       "      <td>0</td>\n",
       "      <td>1</td>\n",
       "      <td>young adults</td>\n",
       "      <td>none</td>\n",
       "    </tr>\n",
       "  </tbody>\n",
       "</table>\n",
       "<p>38567 rows × 16 columns</p>\n",
       "</div>"
      ],
      "text/plain": [
       "             patient_id  appointment_id gender             scheduled_day  \\\n",
       "0        29872499824296         5642903      F 2016-04-29 18:38:08+00:00   \n",
       "1       558997776694438         5642503      M 2016-04-29 16:08:27+00:00   \n",
       "2         4262962299951         5642549      F 2016-04-29 16:19:04+00:00   \n",
       "3          867951213174         5642828      F 2016-04-29 17:29:31+00:00   \n",
       "4         8841186448183         5642494      F 2016-04-29 16:07:23+00:00   \n",
       "...                 ...             ...    ...                       ...   \n",
       "110511     823599626588         5786742      F 2016-06-08 08:50:20+00:00   \n",
       "110512   98762456447375         5786368      F 2016-06-08 08:20:01+00:00   \n",
       "110513   86747784995281         5785964      M 2016-06-08 07:52:55+00:00   \n",
       "110514    2695685177138         5786567      F 2016-06-08 08:35:31+00:00   \n",
       "110517    5574942418928         5780122      F 2016-06-07 07:38:34+00:00   \n",
       "\n",
       "                 appointment_day  age      neighbourhood  scholarship  \\\n",
       "0      2016-04-29 00:00:00+00:00   62    JARDIM DA PENHA            0   \n",
       "1      2016-04-29 00:00:00+00:00   56    JARDIM DA PENHA            0   \n",
       "2      2016-04-29 00:00:00+00:00   62      MATA DA PRAIA            0   \n",
       "3      2016-04-29 00:00:00+00:00    8  PONTAL DE CAMBURI            0   \n",
       "4      2016-04-29 00:00:00+00:00   56    JARDIM DA PENHA            0   \n",
       "...                          ...  ...                ...          ...   \n",
       "110511 2016-06-08 00:00:00+00:00   14        MARIA ORTIZ            0   \n",
       "110512 2016-06-08 00:00:00+00:00   41        MARIA ORTIZ            0   \n",
       "110513 2016-06-08 00:00:00+00:00    2    ANTÔNIO HONÓRIO            0   \n",
       "110514 2016-06-08 00:00:00+00:00   58        MARIA ORTIZ            0   \n",
       "110517 2016-06-07 00:00:00+00:00   19        MARIA ORTIZ            0   \n",
       "\n",
       "        hypertension  diabetes  alcoholism  handicap  sms_received  attended  \\\n",
       "0                  1         0           0         0             0         1   \n",
       "1                  0         0           0         0             0         1   \n",
       "2                  0         0           0         0             0         1   \n",
       "3                  0         0           0         0             0         1   \n",
       "4                  1         1           0         0             0         1   \n",
       "...              ...       ...         ...       ...           ...       ...   \n",
       "110511             0         0           0         0             0         1   \n",
       "110512             0         0           0         0             0         1   \n",
       "110513             0         0           0         0             0         1   \n",
       "110514             0         0           0         0             0         1   \n",
       "110517             0         0           0         0             0         1   \n",
       "\n",
       "               age_groups         issue  \n",
       "0                 elderly  hypertension  \n",
       "1       middle age adults          none  \n",
       "2                 elderly          none  \n",
       "3                children          none  \n",
       "4       middle age adults      multiple  \n",
       "...                   ...           ...  \n",
       "110511          teenagers          none  \n",
       "110512  middle age adults          none  \n",
       "110513           children          none  \n",
       "110514  middle age adults          none  \n",
       "110517       young adults          none  \n",
       "\n",
       "[38567 rows x 16 columns]"
      ]
     },
     "execution_count": 28,
     "metadata": {},
     "output_type": "execute_result"
    }
   ],
   "source": [
    "appointments[appointments.appointment_day < appointments.scheduled_day]"
   ]
  },
  {
   "cell_type": "markdown",
   "metadata": {},
   "source": [
    "As can be seen from above, there were patients who attended their appointments but had their appointments earlier than their schedule day. So, we can only assume that it was just some mistaking when collecting the data, but we have to make sure. Before dropping these records, just to be safe, I am going to leave out the records which had -1 day difference, because that could mean the appointment might have happened on the schedule day (even though there is a negative hour difference)"
   ]
  },
  {
   "cell_type": "code",
   "execution_count": 29,
   "metadata": {},
   "outputs": [],
   "source": [
    "appointments['difference'] = appointments.appointment_day - appointments.scheduled_day"
   ]
  },
  {
   "cell_type": "code",
   "execution_count": 30,
   "metadata": {},
   "outputs": [
    {
     "data": {
      "text/html": [
       "<div>\n",
       "<style scoped>\n",
       "    .dataframe tbody tr th:only-of-type {\n",
       "        vertical-align: middle;\n",
       "    }\n",
       "\n",
       "    .dataframe tbody tr th {\n",
       "        vertical-align: top;\n",
       "    }\n",
       "\n",
       "    .dataframe thead th {\n",
       "        text-align: right;\n",
       "    }\n",
       "</style>\n",
       "<table border=\"1\" class=\"dataframe\">\n",
       "  <thead>\n",
       "    <tr style=\"text-align: right;\">\n",
       "      <th></th>\n",
       "      <th>patient_id</th>\n",
       "      <th>appointment_id</th>\n",
       "      <th>gender</th>\n",
       "      <th>scheduled_day</th>\n",
       "      <th>appointment_day</th>\n",
       "      <th>age</th>\n",
       "      <th>neighbourhood</th>\n",
       "      <th>scholarship</th>\n",
       "      <th>hypertension</th>\n",
       "      <th>diabetes</th>\n",
       "      <th>alcoholism</th>\n",
       "      <th>handicap</th>\n",
       "      <th>sms_received</th>\n",
       "      <th>attended</th>\n",
       "      <th>age_groups</th>\n",
       "      <th>issue</th>\n",
       "      <th>difference</th>\n",
       "    </tr>\n",
       "  </thead>\n",
       "  <tbody>\n",
       "    <tr>\n",
       "      <th>27033</th>\n",
       "      <td>7839272661752</td>\n",
       "      <td>5679978</td>\n",
       "      <td>M</td>\n",
       "      <td>2016-05-10 10:51:53+00:00</td>\n",
       "      <td>2016-05-09 00:00:00+00:00</td>\n",
       "      <td>38</td>\n",
       "      <td>RESISTÊNCIA</td>\n",
       "      <td>0</td>\n",
       "      <td>0</td>\n",
       "      <td>0</td>\n",
       "      <td>0</td>\n",
       "      <td>1</td>\n",
       "      <td>0</td>\n",
       "      <td>0</td>\n",
       "      <td>middle age adults</td>\n",
       "      <td>handicap</td>\n",
       "      <td>-2 days +13:08:07</td>\n",
       "    </tr>\n",
       "    <tr>\n",
       "      <th>55226</th>\n",
       "      <td>7896293967868</td>\n",
       "      <td>5715660</td>\n",
       "      <td>F</td>\n",
       "      <td>2016-05-18 14:50:41+00:00</td>\n",
       "      <td>2016-05-17 00:00:00+00:00</td>\n",
       "      <td>19</td>\n",
       "      <td>SANTO ANTÔNIO</td>\n",
       "      <td>0</td>\n",
       "      <td>0</td>\n",
       "      <td>0</td>\n",
       "      <td>0</td>\n",
       "      <td>1</td>\n",
       "      <td>0</td>\n",
       "      <td>0</td>\n",
       "      <td>young adults</td>\n",
       "      <td>handicap</td>\n",
       "      <td>-2 days +09:09:19</td>\n",
       "    </tr>\n",
       "    <tr>\n",
       "      <th>64175</th>\n",
       "      <td>24252258389979</td>\n",
       "      <td>5664962</td>\n",
       "      <td>F</td>\n",
       "      <td>2016-05-05 13:43:58+00:00</td>\n",
       "      <td>2016-05-04 00:00:00+00:00</td>\n",
       "      <td>22</td>\n",
       "      <td>CONSOLAÇÃO</td>\n",
       "      <td>0</td>\n",
       "      <td>0</td>\n",
       "      <td>0</td>\n",
       "      <td>0</td>\n",
       "      <td>0</td>\n",
       "      <td>0</td>\n",
       "      <td>0</td>\n",
       "      <td>young adults</td>\n",
       "      <td>none</td>\n",
       "      <td>-2 days +10:16:02</td>\n",
       "    </tr>\n",
       "    <tr>\n",
       "      <th>71533</th>\n",
       "      <td>998231581612122</td>\n",
       "      <td>5686628</td>\n",
       "      <td>F</td>\n",
       "      <td>2016-05-11 13:49:20+00:00</td>\n",
       "      <td>2016-05-05 00:00:00+00:00</td>\n",
       "      <td>81</td>\n",
       "      <td>SANTO ANTÔNIO</td>\n",
       "      <td>0</td>\n",
       "      <td>0</td>\n",
       "      <td>0</td>\n",
       "      <td>0</td>\n",
       "      <td>0</td>\n",
       "      <td>0</td>\n",
       "      <td>0</td>\n",
       "      <td>elderly</td>\n",
       "      <td>none</td>\n",
       "      <td>-7 days +10:10:40</td>\n",
       "    </tr>\n",
       "    <tr>\n",
       "      <th>72362</th>\n",
       "      <td>3787481966821</td>\n",
       "      <td>5655637</td>\n",
       "      <td>M</td>\n",
       "      <td>2016-05-04 06:50:57+00:00</td>\n",
       "      <td>2016-05-03 00:00:00+00:00</td>\n",
       "      <td>7</td>\n",
       "      <td>TABUAZEIRO</td>\n",
       "      <td>0</td>\n",
       "      <td>0</td>\n",
       "      <td>0</td>\n",
       "      <td>0</td>\n",
       "      <td>0</td>\n",
       "      <td>0</td>\n",
       "      <td>0</td>\n",
       "      <td>children</td>\n",
       "      <td>none</td>\n",
       "      <td>-2 days +17:09:03</td>\n",
       "    </tr>\n",
       "  </tbody>\n",
       "</table>\n",
       "</div>"
      ],
      "text/plain": [
       "            patient_id  appointment_id gender             scheduled_day  \\\n",
       "27033    7839272661752         5679978      M 2016-05-10 10:51:53+00:00   \n",
       "55226    7896293967868         5715660      F 2016-05-18 14:50:41+00:00   \n",
       "64175   24252258389979         5664962      F 2016-05-05 13:43:58+00:00   \n",
       "71533  998231581612122         5686628      F 2016-05-11 13:49:20+00:00   \n",
       "72362    3787481966821         5655637      M 2016-05-04 06:50:57+00:00   \n",
       "\n",
       "                appointment_day  age  neighbourhood  scholarship  \\\n",
       "27033 2016-05-09 00:00:00+00:00   38    RESISTÊNCIA            0   \n",
       "55226 2016-05-17 00:00:00+00:00   19  SANTO ANTÔNIO            0   \n",
       "64175 2016-05-04 00:00:00+00:00   22     CONSOLAÇÃO            0   \n",
       "71533 2016-05-05 00:00:00+00:00   81  SANTO ANTÔNIO            0   \n",
       "72362 2016-05-03 00:00:00+00:00    7     TABUAZEIRO            0   \n",
       "\n",
       "       hypertension  diabetes  alcoholism  handicap  sms_received  attended  \\\n",
       "27033             0         0           0         1             0         0   \n",
       "55226             0         0           0         1             0         0   \n",
       "64175             0         0           0         0             0         0   \n",
       "71533             0         0           0         0             0         0   \n",
       "72362             0         0           0         0             0         0   \n",
       "\n",
       "              age_groups     issue        difference  \n",
       "27033  middle age adults  handicap -2 days +13:08:07  \n",
       "55226       young adults  handicap -2 days +09:09:19  \n",
       "64175       young adults      none -2 days +10:16:02  \n",
       "71533            elderly      none -7 days +10:10:40  \n",
       "72362           children      none -2 days +17:09:03  "
      ]
     },
     "execution_count": 30,
     "metadata": {},
     "output_type": "execute_result"
    }
   ],
   "source": [
    "problematic_appoints = appointments[appointments.difference < datetime.timedelta(days=-1)]\n",
    "problematic_appoints"
   ]
  },
  {
   "cell_type": "markdown",
   "metadata": {},
   "source": [
    "Now we have 5 patients which has the same issue as above but also, did not attend their appointment. I drop those:"
   ]
  },
  {
   "cell_type": "code",
   "execution_count": 31,
   "metadata": {},
   "outputs": [
    {
     "data": {
      "text/plain": [
       "(110521, 17)"
      ]
     },
     "execution_count": 31,
     "metadata": {},
     "output_type": "execute_result"
    }
   ],
   "source": [
    "appointments.drop(problematic_appoints.index, inplace=True)\n",
    "\n",
    "# Test\n",
    "appointments.shape"
   ]
  },
  {
   "cell_type": "code",
   "execution_count": 32,
   "metadata": {},
   "outputs": [],
   "source": [
    "# Drop the difference column since we do not need it anymore\n",
    "appointments.drop('difference', axis=1, inplace=True)"
   ]
  },
  {
   "cell_type": "markdown",
   "metadata": {},
   "source": [
    "<a id='eda'></a>\n",
    "## Exploratory Data Analysis"
   ]
  },
  {
   "cell_type": "markdown",
   "metadata": {
    "collapsed": true
   },
   "source": [
    "First, I am going to look at the distribution of age groups"
   ]
  },
  {
   "cell_type": "code",
   "execution_count": 33,
   "metadata": {},
   "outputs": [
    {
     "data": {
      "image/png": "[encoded data removed]",
      "text/plain": [
       "<Figure size 432x288 with 1 Axes>"
      ]
     },
     "metadata": {
      "needs_background": "light"
     },
     "output_type": "display_data"
    }
   ],
   "source": [
    "base_color = sb.color_palette()[0]\n",
    "sb.countplot(data=appointments, x='age_groups', color=base_color)\n",
    "plt.xticks(rotation=15);"
   ]
  },
  {
   "cell_type": "markdown",
   "metadata": {},
   "source": [
    "It is clear from above that middle aged adults represent the majority of patients, while there are very few people over 90s"
   ]
  },
  {
   "cell_type": "markdown",
   "metadata": {},
   "source": [
    "Now, let's look at the distribution of different issues."
   ]
  },
  {
   "cell_type": "code",
   "execution_count": 34,
   "metadata": {},
   "outputs": [
    {
     "data": {
      "image/png": "[encoded data removed]",
      "text/plain": [
       "<Figure size 432x288 with 1 Axes>"
      ]
     },
     "metadata": {
      "needs_background": "light"
     },
     "output_type": "display_data"
    }
   ],
   "source": [
    "sb.countplot(data=appointments, x='issue', color=base_color);"
   ]
  },
  {
   "cell_type": "markdown",
   "metadata": {},
   "source": [
    "The above countplot reveals that there were much more patients who did not have any issues when they scheduled. Among patients, hypertension seems to be the most common disease, followed by patients who have multiple issues."
   ]
  },
  {
   "cell_type": "markdown",
   "metadata": {},
   "source": [
    "I expect that the two of the main reasons of why patients missed their appointments are age and their health issues. After I drop columns which I no longer have use for, I will start comparing patients who missed and did not miss appointments agains those two variables."
   ]
  },
  {
   "cell_type": "code",
   "execution_count": 35,
   "metadata": {},
   "outputs": [],
   "source": [
    "appointments.drop(['appointment_id', 'scheduled_day',\n",
    "                   'appointment_day', 'age', 'neighbourhood', 'hypertension',\n",
    "                  'diabetes', 'alcoholism', 'handicap', 'gender'], axis=1, inplace=True)"
   ]
  },
  {
   "cell_type": "code",
   "execution_count": 36,
   "metadata": {},
   "outputs": [],
   "source": [
    "# First look at the overall proportion of people who attended their appointments\n",
    "overall_attendance_prop = appointments.attended.mean()"
   ]
  },
  {
   "cell_type": "code",
   "execution_count": 37,
   "metadata": {},
   "outputs": [],
   "source": [
    "# Take a sample from the datababse to reduce computation time\n",
    "subset_appointments = appointments.sample(10000, replace=False)"
   ]
  },
  {
   "cell_type": "code",
   "execution_count": 38,
   "metadata": {},
   "outputs": [],
   "source": [
    "# Now create masks for attendance\n",
    "attended = subset_appointments.attended == True\n",
    "not_attended = subset_appointments.attended == False"
   ]
  },
  {
   "cell_type": "code",
   "execution_count": 39,
   "metadata": {
    "scrolled": false
   },
   "outputs": [
    {
     "data": {
      "image/png": "[encoded data removed]",
      "text/plain": [
       "<Figure size 432x288 with 1 Axes>"
      ]
     },
     "metadata": {
      "needs_background": "light"
     },
     "output_type": "display_data"
    }
   ],
   "source": [
    "# Plot the difference in attendance between age groups\n",
    "sb.countplot(data=subset_appointments, x='age_groups', hue='attended')\n",
    "plt.xticks(rotation=15)\n",
    "plt.legend(labels=['No', 'Yes'], title='Attended');"
   ]
  },
  {
   "cell_type": "markdown",
   "metadata": {},
   "source": [
    "From earlier plots we saw that the majority of patients were middle aged adults. Therefore, the last diagram makes sense for middle aged adults."
   ]
  },
  {
   "cell_type": "markdown",
   "metadata": {},
   "source": [
    "Next I am going to look at the disribution of proportions of health issues"
   ]
  },
  {
   "cell_type": "code",
   "execution_count": 40,
   "metadata": {},
   "outputs": [
    {
     "data": {
      "image/png": "[encoded data removed]",
      "text/plain": [
       "<Figure size 432x288 with 1 Axes>"
      ]
     },
     "metadata": {
      "needs_background": "light"
     },
     "output_type": "display_data"
    }
   ],
   "source": [
    "sb.countplot(data=subset_appointments, x='issue', hue='attended')\n",
    "plt.xticks(rotation=15)\n",
    "plt.legend(labels=['No', 'Yes'], title='Attended');"
   ]
  },
  {
   "cell_type": "markdown",
   "metadata": {},
   "source": [
    "The above plot did not reveal any signs that health issues or age affect missing appointments. Even though, middle aged adults and patients who had no health issues had higher figures for attendance, that is largely due to the fact that those groups represent the majority of the records. So, we will dive deeper. In order to answer my main question, I have to find the proportions of attendance for every age group and issue."
   ]
  },
  {
   "cell_type": "code",
   "execution_count": 71,
   "metadata": {},
   "outputs": [],
   "source": [
    "def find_props(df):\n",
    "    age_groups = ['children', 'teenagers', 'young adults', 'middle age adults', 'elderly', 'over 90']\n",
    "    issues = ['hypertension', 'diabetes', 'alcoholism', 'handicap', 'none', 'multiple']\n",
    "    age_group_dict = {}\n",
    "    issue_group_dict = {}\n",
    "    for column in ['age_groups', 'issue']:\n",
    "        if column == 'age_groups':\n",
    "            for group in age_groups:\n",
    "                age_group_dict[group] = df[attended][df[attended][column] == group][column].shape[0] / df[df[column] == group][column].shape[0]\n",
    "        elif column == 'issue':\n",
    "            for group in issues:\n",
    "                issue_group_dict[group] = df[attended][df[attended][column] == group][column].shape[0] / df[df[column] == group][column].shape[0]\n",
    "    return age_group_dict, issue_group_dict"
   ]
  },
  {
   "cell_type": "code",
   "execution_count": 75,
   "metadata": {},
   "outputs": [
    {
     "data": {
      "text/plain": [
       "{'children': 0.8025114155251142,\n",
       " 'teenagers': 0.7196029776674938,\n",
       " 'young adults': 0.7595180722891566,\n",
       " 'middle age adults': 0.8069464544138929,\n",
       " 'elderly': 0.846441947565543,\n",
       " 'over 90': 0.7441860465116279,\n",
       " 'hypertension': 0.8280757097791798,\n",
       " 'diabetes': 0.8064516129032258,\n",
       " 'alcoholism': 0.8,\n",
       " 'handicap': 0.7946428571428571,\n",
       " 'none': 0.7885497183283113,\n",
       " 'multiple': 0.8218793828892006}"
      ]
     },
     "execution_count": 75,
     "metadata": {},
     "output_type": "execute_result"
    }
   ],
   "source": [
    "age, issue = find_props(subset_appointments)\n",
    "age"
   ]
  },
  {
   "cell_type": "code",
   "execution_count": 41,
   "metadata": {},
   "outputs": [],
   "source": [
    "def find_prop_issue(attend, group):\n",
    "    number_in_group = subset_appointments[subset_appointments.issue == group].shape[0]\n",
    "    number_attended = subset_appointments[(subset_appointments.issue == group) & (attend)].shape[0]\n",
    "    prop = number_attended / number_in_group\n",
    "    return prop"
   ]
  },
  {
   "cell_type": "code",
   "execution_count": 44,
   "metadata": {},
   "outputs": [
    {
     "data": {
      "text/plain": [
       "0.8280757097791798"
      ]
     },
     "execution_count": 44,
     "metadata": {},
     "output_type": "execute_result"
    }
   ],
   "source": [
    "find_prop_issue(attend=attended, group='hypertension')"
   ]
  },
  {
   "cell_type": "code",
   "execution_count": null,
   "metadata": {},
   "outputs": [],
   "source": [
    "subset_appointments.head()"
   ]
  },
  {
   "cell_type": "markdown",
   "metadata": {},
   "source": [
    "<a id='conclusions'></a>\n",
    "## Conclusions\n",
    "\n",
    "> **Tip**: Finally, summarize your findings and the results that have been performed. Make sure that you are clear with regards to the limitations of your exploration. If you haven't done any statistical tests, do not imply any statistical conclusions. And make sure you avoid implying causation from correlation!\n",
    "\n",
    "> **Tip**: Once you are satisfied with your work, you should save a copy of the report in HTML or PDF form via the **File** > **Download as** submenu. Before exporting your report, check over it to make sure that the flow of the report is complete. You should probably remove all of the \"Tip\" quotes like this one so that the presentation is as tidy as possible. Congratulations!"
   ]
  },
  {
   "cell_type": "code",
   "execution_count": null,
   "metadata": {},
   "outputs": [],
   "source": []
  }
 ],
 "metadata": {
  "kernelspec": {
   "display_name": "Python 3",
   "language": "python",
   "name": "python3"
  },
  "language_info": {
   "codemirror_mode": {
    "name": "ipython",
    "version": 3
   },
   "file_extension": ".py",
   "mimetype": "text/x-python",
   "name": "python",
   "nbconvert_exporter": "python",
   "pygments_lexer": "ipython3",
   "version": "3.7.6"
  }
 },
 "nbformat": 4,
 "nbformat_minor": 2
}
